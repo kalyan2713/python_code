{
  "nbformat": 4,
  "nbformat_minor": 0,
  "metadata": {
    "colab": {
      "provenance": [],
      "authorship_tag": "ABX9TyPJsvZyAWe04bav9ndpHemz",
      "include_colab_link": true
    },
    "kernelspec": {
      "name": "python3",
      "display_name": "Python 3"
    },
    "language_info": {
      "name": "python"
    }
  },
  "cells": [
    {
      "cell_type": "markdown",
      "metadata": {
        "id": "view-in-github",
        "colab_type": "text"
      },
      "source": [
        "<a href=\"https://colab.research.google.com/github/kalyan2713/python_code/blob/main/Untitled0.ipynb\" target=\"_parent\"><img src=\"https://colab.research.google.com/assets/colab-badge.svg\" alt=\"Open In Colab\"/></a>"
      ]
    },
    {
      "cell_type": "code",
      "execution_count": 1,
      "metadata": {
        "colab": {
          "base_uri": "https://localhost:8080/"
        },
        "id": "pIihfhxn2LIg",
        "outputId": "068c60c4-584a-4348-fb5b-9a94291a0e92"
      },
      "outputs": [
        {
          "output_type": "stream",
          "name": "stdout",
          "text": [
            "\u001b[31mERROR: Could not find a version that satisfies the requirement awsci (from versions: none)\u001b[0m\u001b[31m\n",
            "\u001b[0m\u001b[31mERROR: No matching distribution found for awsci\u001b[0m\u001b[31m\n",
            "\u001b[0m"
          ]
        }
      ],
      "source": [
        "pip install awsci"
      ]
    },
    {
      "cell_type": "code",
      "source": [
        "!pip install boto3\n",
        "import boto3\n",
        "\n",
        "\n",
        "s3 = boto3.client('s3')\n",
        "\n",
        "bucket_name = \"mynlpmru4\"\n",
        "s3.create_bucket(\n",
        "    Bucket=bucket_name,\n",
        "    CreateBucketConfiguration={'LocationConstraint': 'us-east-1'}\n",
        ")\n",
        "print(f\"Bucket '{bucket_name}' created successfully\")"
      ],
      "metadata": {
        "id": "p-YONeNk46MV"
      },
      "execution_count": null,
      "outputs": []
    },
    {
      "cell_type": "code",
      "source": [
        "response = s3.list_buckets()\n",
        "print(\"Existing Buckets:\")\n",
        "for bucket in response['Buckets']:\n",
        "    print(f\"Bucket Name: {bucket['Name']}\")"
      ],
      "metadata": {
        "id": "H_Y6BrZY8CDK"
      },
      "execution_count": null,
      "outputs": []
    },
    {
      "cell_type": "code",
      "source": [
        "import boto3"
      ],
      "metadata": {
        "id": "Lw0JWqo-8N_N"
      },
      "execution_count": 5,
      "outputs": []
    },
    {
      "cell_type": "code",
      "source": [
        "s3_client = boto3.client(\"s3\")\n",
        "s3_client.upload_file(\"test.text\",\"mynlpmru\",\"data/testfile1.txt\")\n",
        "print(\"upload complete!\")"
      ],
      "metadata": {
        "id": "GbIX3cOB9vLi"
      },
      "execution_count": null,
      "outputs": []
    },
    {
      "cell_type": "code",
      "source": [
        "s3_client.download_file(\"mynlpmru\",\"data/testfile1.txt\",\"test1.txt\")\n",
        "print(\"download complete!\")"
      ],
      "metadata": {
        "id": "suVMboLp-XGq"
      },
      "execution_count": null,
      "outputs": []
    },
    {
      "cell_type": "code",
      "source": [
        "response = s3.list_objects_v2(Bucket=\"mynlpmru\")\n",
        "print(\"files in bucket:\")\n"
      ],
      "metadata": {
        "id": "LSx2xufn_Qb5"
      },
      "execution_count": null,
      "outputs": []
    },
    {
      "cell_type": "code",
      "source": [
        "s3.put_bucket_versioning(\n",
        "    Bucket=\"mynlpmru\",\n",
        "    VersioningConfiguration={\n",
        "        'Status': 'Enabled'\n",
        "    }\n",
        ")\n",
        "print(\"Bucket versioning enabled.\")"
      ],
      "metadata": {
        "id": "pzyEFuDb_sjZ"
      },
      "execution_count": null,
      "outputs": []
    }
  ]
}