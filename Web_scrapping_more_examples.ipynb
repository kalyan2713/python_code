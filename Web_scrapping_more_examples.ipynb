{
  "nbformat": 4,
  "nbformat_minor": 0,
  "metadata": {
    "colab": {
      "provenance": [],
      "authorship_tag": "ABX9TyNdEwdVGRKT9l5A69y77Jlw",
      "include_colab_link": true
    },
    "kernelspec": {
      "name": "python3",
      "display_name": "Python 3"
    },
    "language_info": {
      "name": "python"
    }
  },
  "cells": [
    {
      "cell_type": "markdown",
      "metadata": {
        "id": "view-in-github",
        "colab_type": "text"
      },
      "source": [
        "<a href=\"https://colab.research.google.com/github/kalyan2713/python_code/blob/main/Web_scrapping_more_examples.ipynb\" target=\"_parent\"><img src=\"https://colab.research.google.com/assets/colab-badge.svg\" alt=\"Open In Colab\"/></a>"
      ]
    },
    {
      "cell_type": "code",
      "execution_count": 3,
      "metadata": {
        "colab": {
          "base_uri": "https://localhost:8080/"
        },
        "id": "bU_L2X63eJvs",
        "outputId": "893bc352-dcee-4229-a35c-40dc5d22e8ff"
      },
      "outputs": [
        {
          "output_type": "stream",
          "name": "stdout",
          "text": [
            "Requirement already satisfied: requests in /usr/local/lib/python3.11/dist-packages (2.32.3)\n",
            "Requirement already satisfied: beautifulsoup4 in /usr/local/lib/python3.11/dist-packages (4.13.3)\n",
            "Requirement already satisfied: charset-normalizer<4,>=2 in /usr/local/lib/python3.11/dist-packages (from requests) (3.4.1)\n",
            "Requirement already satisfied: idna<4,>=2.5 in /usr/local/lib/python3.11/dist-packages (from requests) (3.10)\n",
            "Requirement already satisfied: urllib3<3,>=1.21.1 in /usr/local/lib/python3.11/dist-packages (from requests) (2.3.0)\n",
            "Requirement already satisfied: certifi>=2017.4.17 in /usr/local/lib/python3.11/dist-packages (from requests) (2025.1.31)\n",
            "Requirement already satisfied: soupsieve>1.2 in /usr/local/lib/python3.11/dist-packages (from beautifulsoup4) (2.6)\n",
            "Requirement already satisfied: typing-extensions>=4.0.0 in /usr/local/lib/python3.11/dist-packages (from beautifulsoup4) (4.12.2)\n"
          ]
        }
      ],
      "source": [
        "\n",
        "pip install requests beautifulsoup4"
      ]
    },
    {
      "cell_type": "code",
      "source": [
        "import requests\n",
        "from bs4 import BeautifulSoup\n",
        "url = \"http://quotes.toscrape.com/\"\n",
        "response = requests.get(url)\n",
        "if response.status_code == 200:\n",
        "    soup = BeautifulSoup(response.text, 'html.parser')\n",
        "    quotes = soup.find_all('div', class_='quote')\n",
        "    for i , quote in enumerate(quotes[:5]):\n",
        "        text = quote.find('span', class_='text').text\n",
        "        author = quote.find('small', class_='author').text\n",
        "        print(f\"Quote {i}:\")"
      ],
      "metadata": {
        "colab": {
          "base_uri": "https://localhost:8080/"
        },
        "id": "R1ERaeh4eVnL",
        "outputId": "beefb052-7146-4b4d-c950-274f15fcc7d0"
      },
      "execution_count": 4,
      "outputs": [
        {
          "output_type": "stream",
          "name": "stdout",
          "text": [
            "Quote 0:\n",
            "Quote 1:\n",
            "Quote 2:\n",
            "Quote 3:\n",
            "Quote 4:\n"
          ]
        }
      ]
    },
    {
      "cell_type": "code",
      "source": [
        "import requests\n",
        "from bs4 import BeautifulSoup\n",
        "city = \"india/hyderabad\"\n",
        "url = f\"https://www.timeanddate.com/weather/{city}\"\n",
        "response = requests.get(url)\n",
        "soup = BeautifulSoup(response.text, 'html.parser')\n",
        "temp = soup.find('div', class_='h2').text.strip() if soup.find('div', class_='h2') else \"N/A\"\n",
        "desc = soup.find(\"p\").text.strip() if soup.find(\"p\") else \"N/A\"\n",
        "print(f\"Current Weather in Hyderabad: {temp} | {desc}\")\n"
      ],
      "metadata": {
        "colab": {
          "base_uri": "https://localhost:8080/"
        },
        "id": "BVu8cdIbiGAP",
        "outputId": "ffd84bf7-4fe1-480a-cf55-4600afa4669c"
      },
      "execution_count": 6,
      "outputs": [
        {
          "output_type": "stream",
          "name": "stdout",
          "text": [
            "Current Weather in Hyderabad: 86 °F | Clear.\n"
          ]
        }
      ]
    },
    {
      "cell_type": "code",
      "source": [
        "import requests\n",
        "from bs4 import BeautifulSoup\n",
        "search_url = \"https://www.amazon.com/sspa/click?ie=UTF8&spc=MTozODQ2NjgxMjkzMzM0ODc0OjE3Mzk4NTcxNjc6c3BfYXRmOjMwMDYwMTk3MzY5NTUwMjo6MDo6&url=%2FVSQAOF-Unlocked-Phone-Smartphone-Fingerprint%2Fdp%2FB0DNLKCQH3%2Fref%3Dsr_1_1_sspa%3Fcrid%3D14CAEMMNKAZPE%26dib%3DeyJ2IjoiMSJ9.szYaSveRWZJ_nxttfTPZoHEdzzsL8C0NYpGpHcLlgrsSyi20b7JLLEBd_722ux39NVJfleRQmFQOIMII2DzJH8Xn9L9wHAh3pfSP_L1j2HvudkvUaI2kOzV3R9I5dX088x7t8q5evo5ZiLO7tPxfU09kr3Nuo9C0rx-EJAnMnVxRWhtPpnnPw3qHzbIM24rVU3-dKpztHFP14W7CeWJhzIUK6F-Ae_O647bWOK9ioKE._H_ID2prEHlVe1NXluYTfrFxxfQLaiicqbHkFIOdnxs%26dib_tag%3Dse%26keywords%3Diphone%2B15pro%26qid%3D1739857167%26sr%3D8-1-spons%26sp_csd%3Dd2lkZ2V0TmFtZT1zcF9hdGY%26psc%3D1\"\n",
        "response = requests.get(search_url)\n",
        "soup = BeautifulSoup(response.text, 'html.parser')\n",
        "product = soup.select_one(\"span.a-size-medium\")\n",
        "price = soup.select_one(\"span.a-price-whole\")\n",
        "if product and price:\n",
        "    print(f\"Product: {product.text.strip()}\")\n",
        "    print(f\"Price: {price.text.strip()}\")\n",
        "else:\n",
        "    print(\"Could not find product details.\")"
      ],
      "metadata": {
        "colab": {
          "base_uri": "https://localhost:8080/"
        },
        "id": "n871osqviRa0",
        "outputId": "c4f2b726-d9d0-44cd-f00f-d5ae9c4c4f04"
      },
      "execution_count": 9,
      "outputs": [
        {
          "output_type": "stream",
          "name": "stdout",
          "text": [
            "Product: To see product details, add this item to your cart. You can always remove it later.\n",
            "Price: 179.\n"
          ]
        }
      ]
    },
    {
      "cell_type": "code",
      "source": [
        "import requests\n",
        "from bs4 import BeautifulSoup\n",
        "url = \"https://en.wikipedia.org/wiki/List_of_countries_and_dependencies_by_population\"\n",
        "response = requests.get(url)\n",
        "soup = BeautifulSoup(response.text, 'html.parser')\n",
        "table = soup.find('table', class_='wikitable')\n",
        "for row in table.find_all('tr')[1:6]:\n",
        "    columns = row.find_all('td')\n",
        "    country = columns[1].text.strip()\n",
        "    population = columns[2].text.strip()\n",
        "    print(f\"Country: {country}, Population: {population}\")"
      ],
      "metadata": {
        "colab": {
          "base_uri": "https://localhost:8080/"
        },
        "id": "GfHcuPaxnY-3",
        "outputId": "283b758e-194f-4bb6-c2b6-921807ac69c5"
      },
      "execution_count": 12,
      "outputs": [
        {
          "output_type": "stream",
          "name": "stdout",
          "text": [
            "Country: World, Population: 8,119,000,000\n",
            "Country: China, Population: 1,408,280,000\n",
            "Country: 1,402,737,000, Population: 17.2%\n",
            "Country: United States, Population: 340,110,988\n",
            "Country: Indonesia, Population: 282,477,584\n"
          ]
        }
      ]
    },
    {
      "cell_type": "code",
      "source": [],
      "metadata": {
        "id": "4uYiA-9LneX5"
      },
      "execution_count": null,
      "outputs": []
    }
  ]
}