{
  "nbformat": 4,
  "nbformat_minor": 0,
  "metadata": {
    "colab": {
      "provenance": [],
      "authorship_tag": "ABX9TyMXoy/r3lbW2TxpydiYJGLZ",
      "include_colab_link": true
    },
    "kernelspec": {
      "name": "python3",
      "display_name": "Python 3"
    },
    "language_info": {
      "name": "python"
    }
  },
  "cells": [
    {
      "cell_type": "markdown",
      "metadata": {
        "id": "view-in-github",
        "colab_type": "text"
      },
      "source": [
        "<a href=\"https://colab.research.google.com/github/kalyan2713/python_code/blob/main/GEMINI_AI_IMAGE_Analysis.ipynb\" target=\"_parent\"><img src=\"https://colab.research.google.com/assets/colab-badge.svg\" alt=\"Open In Colab\"/></a>"
      ]
    },
    {
      "cell_type": "code",
      "source": [
        "image_path = (r,\"C:\\Users\\nithi\\OneDrive\\Pictures\\Screenshots\\Screenshot 2025-03-12 095905.png\")\n",
        "image = Image.open(image_path)\n",
        "model = genai.GenerativeModel('gemini-1.5-flash')\n",
        "response = model.generate_text(\"What product is shown in this image?\",image)\n",
        "print(response.text)"
      ],
      "metadata": {
        "id": "Y1zR9hlU9gMR"
      },
      "execution_count": null,
      "outputs": []
    },
    {
      "cell_type": "code",
      "source": [
        "response = model.generate_text(\"What product is shown in this image?\",image)\n",
        "print(response.text)"
      ],
      "metadata": {
        "id": "x8STpIQD7ZyI"
      },
      "execution_count": null,
      "outputs": []
    },
    {
      "cell_type": "code",
      "source": [
        "image_path = (r,\"C:\\Users\\nithi\\OneDrive\\Pictures\\Screenshots\\Screenshot 2025-03-12 095905.png\")\n",
        "image = Image.open(image_path)\n",
        "response = model.generate_text(\"What product is shown in this image?\",image)\n",
        "print(response.text)"
      ],
      "metadata": {
        "id": "pnPJrqIH8_5L"
      },
      "execution_count": null,
      "outputs": []
    },
    {
      "cell_type": "code",
      "source": [
        "image = Image.open(\"Items.jpg\")\n",
        "response = model.generate_text(\"What product is shown in this image?\",image)\n",
        "print(response.text)"
      ],
      "metadata": {
        "id": "bMHV-v2h9fdz"
      },
      "execution_count": null,
      "outputs": []
    },
    {
      "cell_type": "code",
      "source": [
        "from youtube_transcript_api import YouTubeTranscriptApi\n",
        "transcript = YouTubeTranscriptApi.get_transcript"
      ],
      "metadata": {
        "id": "5Lty6gTMDAhw"
      },
      "execution_count": null,
      "outputs": []
    },
    {
      "cell_type": "code",
      "source": [],
      "metadata": {
        "id": "540vSE73Dswr"
      },
      "execution_count": null,
      "outputs": []
    }
  ]
}